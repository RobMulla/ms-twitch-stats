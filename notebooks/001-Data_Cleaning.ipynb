{
 "cells": [
  {
   "cell_type": "markdown",
   "id": "f8ed65cf-575b-48bb-81b5-806d8f4e7aec",
   "metadata": {},
   "source": [
    "# Data Cleaning Notebook\n",
    "Goals of this notebook:\n",
    "- Load in and process all the data files from twitch.\n",
    "    - Stream Session Data\n",
    "    - Channel Analytics"
   ]
  },
  {
   "cell_type": "code",
   "execution_count": 1,
   "id": "e9dbf3ec-8265-46f5-b374-40dc78cabd92",
   "metadata": {},
   "outputs": [],
   "source": [
    "from glob import glob\n",
    "import pandas as pd\n",
    "\n",
    "import sys\n",
    "sys.path.append('../src/')\n",
    "\n",
    "from data_prep import process_stream_sessions"
   ]
  },
  {
   "cell_type": "code",
   "execution_count": 2,
   "id": "1cefa444-f94b-4ad0-83d3-8415e78707e9",
   "metadata": {},
   "outputs": [],
   "source": [
    "raw_files = glob('../data/raw/*.csv')"
   ]
  },
  {
   "cell_type": "code",
   "execution_count": 3,
   "id": "66ea4429-c04a-4f9a-b382-2c8ab8d09814",
   "metadata": {},
   "outputs": [
    {
     "name": "stdout",
     "output_type": "stream",
     "text": [
      "3 Channel Analytics Files - 29 Stream Session Files\n"
     ]
    }
   ],
   "source": [
    "ca_files = [f for f in raw_files if 'Channel Analytics' in f]\n",
    "ss_files = [f for f in raw_files if 'Stream Session' in f]\n",
    "\n",
    "print(f'{len(ca_files)} Channel Analytics Files - {len(ss_files)} Stream Session Files')"
   ]
  },
  {
   "cell_type": "markdown",
   "id": "5960aa22-eb23-436c-94fd-f188ebee4bb0",
   "metadata": {},
   "source": [
    "## Process Stream Session Files"
   ]
  },
  {
   "cell_type": "code",
   "execution_count": 4,
   "id": "150b06e6-f979-4dd9-a59c-2d115dfe16c5",
   "metadata": {},
   "outputs": [],
   "source": [
    "ss = process_stream_sessions()"
   ]
  },
  {
   "cell_type": "code",
   "execution_count": 5,
   "id": "e2004e02-b54e-44b6-b62d-a5e3cb98acdb",
   "metadata": {},
   "outputs": [
    {
     "data": {
      "text/plain": [
       "<AxesSubplot:title={'center':'Viewers by Date'}, xlabel='datetime'>"
      ]
     },
     "execution_count": 5,
     "metadata": {},
     "output_type": "execute_result"
    },
    {
     "data": {
      "image/png": "[encoded data removed]",
      "text/plain": [
       "<Figure size 1080x360 with 1 Axes>"
      ]
     },
     "metadata": {
      "needs_background": "light"
     },
     "output_type": "display_data"
    }
   ],
   "source": [
    "ss.set_index('datetime')['Viewers'].plot(figsize= (15, 5), style='.', title='Viewers by Date')"
   ]
  },
  {
   "cell_type": "code",
   "execution_count": 6,
   "id": "1adb071d-21a9-452e-874b-adc18d7552dd",
   "metadata": {},
   "outputs": [
    {
     "data": {
      "text/html": [
       "<div>\n",
       "<style scoped>\n",
       "    .dataframe tbody tr th:only-of-type {\n",
       "        vertical-align: middle;\n",
       "    }\n",
       "\n",
       "    .dataframe tbody tr th {\n",
       "        vertical-align: top;\n",
       "    }\n",
       "\n",
       "    .dataframe thead th {\n",
       "        text-align: right;\n",
       "    }\n",
       "</style>\n",
       "<table border=\"1\" class=\"dataframe\">\n",
       "  <thead>\n",
       "    <tr style=\"text-align: right;\">\n",
       "      <th></th>\n",
       "      <th>session</th>\n",
       "      <th>datetime</th>\n",
       "      <th>Viewers</th>\n",
       "      <th>Live Views</th>\n",
       "      <th>New Followers</th>\n",
       "      <th>Chatters</th>\n",
       "      <th>Chat Messages</th>\n",
       "      <th>Ad Breaks</th>\n",
       "      <th>Subscriptions</th>\n",
       "      <th>Clips Created</th>\n",
       "      <th>All Clip Views</th>\n",
       "    </tr>\n",
       "  </thead>\n",
       "  <tbody>\n",
       "    <tr>\n",
       "      <th>0</th>\n",
       "      <td>Stream Session from 9_3_2021 to 9_4_2021</td>\n",
       "      <td>2021-09-03 22:15:00</td>\n",
       "      <td>1</td>\n",
       "      <td>1</td>\n",
       "      <td>1</td>\n",
       "      <td>1</td>\n",
       "      <td>1</td>\n",
       "      <td>0</td>\n",
       "      <td>0</td>\n",
       "      <td>0</td>\n",
       "      <td>0</td>\n",
       "    </tr>\n",
       "    <tr>\n",
       "      <th>1</th>\n",
       "      <td>Stream Session from 9_3_2021 to 9_4_2021</td>\n",
       "      <td>2021-09-03 22:20:00</td>\n",
       "      <td>1</td>\n",
       "      <td>0</td>\n",
       "      <td>0</td>\n",
       "      <td>0</td>\n",
       "      <td>0</td>\n",
       "      <td>0</td>\n",
       "      <td>0</td>\n",
       "      <td>0</td>\n",
       "      <td>0</td>\n",
       "    </tr>\n",
       "    <tr>\n",
       "      <th>2</th>\n",
       "      <td>Stream Session from 9_3_2021 to 9_4_2021</td>\n",
       "      <td>2021-09-03 22:25:00</td>\n",
       "      <td>1</td>\n",
       "      <td>0</td>\n",
       "      <td>0</td>\n",
       "      <td>0</td>\n",
       "      <td>0</td>\n",
       "      <td>0</td>\n",
       "      <td>0</td>\n",
       "      <td>0</td>\n",
       "      <td>0</td>\n",
       "    </tr>\n",
       "    <tr>\n",
       "      <th>3</th>\n",
       "      <td>Stream Session from 9_3_2021 to 9_4_2021</td>\n",
       "      <td>2021-09-03 22:30:00</td>\n",
       "      <td>1</td>\n",
       "      <td>0</td>\n",
       "      <td>0</td>\n",
       "      <td>0</td>\n",
       "      <td>0</td>\n",
       "      <td>0</td>\n",
       "      <td>0</td>\n",
       "      <td>0</td>\n",
       "      <td>0</td>\n",
       "    </tr>\n",
       "    <tr>\n",
       "      <th>4</th>\n",
       "      <td>Stream Session from 9_3_2021 to 9_4_2021</td>\n",
       "      <td>2021-09-03 22:35:00</td>\n",
       "      <td>1</td>\n",
       "      <td>0</td>\n",
       "      <td>0</td>\n",
       "      <td>0</td>\n",
       "      <td>0</td>\n",
       "      <td>0</td>\n",
       "      <td>0</td>\n",
       "      <td>0</td>\n",
       "      <td>0</td>\n",
       "    </tr>\n",
       "  </tbody>\n",
       "</table>\n",
       "</div>"
      ],
      "text/plain": [
       "                                    session            datetime  Viewers  \\\n",
       "0  Stream Session from 9_3_2021 to 9_4_2021 2021-09-03 22:15:00        1   \n",
       "1  Stream Session from 9_3_2021 to 9_4_2021 2021-09-03 22:20:00        1   \n",
       "2  Stream Session from 9_3_2021 to 9_4_2021 2021-09-03 22:25:00        1   \n",
       "3  Stream Session from 9_3_2021 to 9_4_2021 2021-09-03 22:30:00        1   \n",
       "4  Stream Session from 9_3_2021 to 9_4_2021 2021-09-03 22:35:00        1   \n",
       "\n",
       "   Live Views  New Followers  Chatters  Chat Messages  Ad Breaks  \\\n",
       "0           1              1         1              1          0   \n",
       "1           0              0         0              0          0   \n",
       "2           0              0         0              0          0   \n",
       "3           0              0         0              0          0   \n",
       "4           0              0         0              0          0   \n",
       "\n",
       "   Subscriptions  Clips Created  All Clip Views  \n",
       "0              0              0               0  \n",
       "1              0              0               0  \n",
       "2              0              0               0  \n",
       "3              0              0               0  \n",
       "4              0              0               0  "
      ]
     },
     "execution_count": 6,
     "metadata": {},
     "output_type": "execute_result"
    }
   ],
   "source": [
    "ss.head()"
   ]
  },
  {
   "cell_type": "code",
   "execution_count": null,
   "id": "3141158c-e1f7-431d-ae40-c9fc9d8f513b",
   "metadata": {},
   "outputs": [],
   "source": []
  }
 ],
 "metadata": {
  "kernelspec": {
   "display_name": "Python 3 (ipykernel)",
   "language": "python",
   "name": "python3"
  },
  "language_info": {
   "codemirror_mode": {
    "name": "ipython",
    "version": 3
   },
   "file_extension": ".py",
   "mimetype": "text/x-python",
   "name": "python",
   "nbconvert_exporter": "python",
   "pygments_lexer": "ipython3",
   "version": "3.8.11"
  }
 },
 "nbformat": 4,
 "nbformat_minor": 5
}
